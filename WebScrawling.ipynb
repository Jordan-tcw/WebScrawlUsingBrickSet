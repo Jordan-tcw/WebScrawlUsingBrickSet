{
  "nbformat": 4,
  "nbformat_minor": 5,
  "metadata": {
    "kernelspec": {
      "display_name": "Python 3",
      "language": "python",
      "name": "python3"
    },
    "language_info": {
      "codemirror_mode": {
        "name": "ipython",
        "version": 3
      },
      "file_extension": ".py",
      "mimetype": "text/x-python",
      "name": "python",
      "nbconvert_exporter": "python",
      "pygments_lexer": "ipython3",
      "version": "3.8.8"
    },
    "toc": {
      "base_numbering": 1,
      "nav_menu": {},
      "number_sections": true,
      "sideBar": true,
      "skip_h1_title": false,
      "title_cell": "Table of Contents",
      "title_sidebar": "Contents",
      "toc_cell": false,
      "toc_position": {},
      "toc_section_display": true,
      "toc_window_display": false
    },
    "colab": {
      "name": "TU912-4_Wilkes_Jordan_C18435702_CA02.ipynb",
      "provenance": [],
      "collapsed_sections": []
    }
  },
  "cells": [
    {
      "cell_type": "markdown",
      "metadata": {
        "id": "96f2a00a-a4ee-4869-aada-9c02de58b4ff"
      },
      "source": [
        "<h1>Continuous Assessment 2</h1>\n",
        "Student Name: Jordan Wilkes <br>\n",
        "Student ID:   C18435702 <br>\n",
        "<br>\n",
        "Submission must be done via Brightspace with deadline: 26 November 2021, 23:55. Your submission should consist of one file (.ipynb), which contains the answers, to the above questions. The submitted file should be named following the format:  <br>\n",
        "TU912-4_Wilkes_Jordan_C18435702_CA02.ipynb \n"
      ],
      "id": "96f2a00a-a4ee-4869-aada-9c02de58b4ff"
    },
    {
      "cell_type": "markdown",
      "metadata": {
        "id": "dd6e0b31-0ced-496f-928d-fe10c8d2530b"
      },
      "source": [
        "The Internet has become an inexhaustible and available resource for building data sets. Many\n",
        "market analytics applications start their studies by collecting such resources. Let’s imagine that\n",
        "a start-up company, which start their business in the market of toys and games for children,\n",
        "wants to do a market research on this domain. Let’s start with a website www.brickset.com"
      ],
      "id": "dd6e0b31-0ced-496f-928d-fe10c8d2530b"
    },
    {
      "cell_type": "markdown",
      "metadata": {
        "id": "43692125-6626-401f-a8a7-393ece81f008"
      },
      "source": [
        "## Question 1. \n",
        "Crawl category page [1] to extract the list of products, each product has title and\n",
        "url . Print the result list.<br>\n",
        "[1] https://brickset.com/sets/year-2021"
      ],
      "id": "43692125-6626-401f-a8a7-393ece81f008"
    },
    {
      "cell_type": "code",
      "metadata": {
        "colab": {
          "base_uri": "https://localhost:8080/"
        },
        "id": "590bf5d6-b1bf-4094-8b6b-b57ace5ea8ab",
        "outputId": "374ccac8-0cb9-471b-b2ac-e6383c451a98"
      },
      "source": [
        "# Write you code here\n",
        "url = 'https://brickset.com/sets/year-2021'\n",
        "import urllib.request\n",
        "\n",
        "# Write you code here to download content of HTML page\n",
        "response = urllib.request.urlopen(url)\n",
        "raw_html = response.read().decode(\"utf-8\")\n",
        "\n",
        "\n",
        "# Write you code here to parse HTML page\n",
        "from bs4 import BeautifulSoup\n",
        "soup = BeautifulSoup(raw_html, 'html.parser')\n",
        "\n",
        "\n",
        "lst_productlinks = []\n",
        "#<h1><a href=\"/sets/10270-1/Bookshop\"><span>10270: </span> Bookshop</a></h1>\n",
        "# Write you code here to extract title, link. <Customize your config here to find DOM nodes of product items>\n",
        "for divbox in soup.find_all(\"div\",{\"class\":\"meta\"}):\n",
        "    title = divbox.find(\"h1\").get_text().strip()\n",
        "    href = divbox.find(\"h1\").find(\"a\").get(\"href\")\n",
        "    href_new = \"https://brickset.com/\" + href\n",
        "    print(title, \" => \", href_new)\n",
        "    lst_productlinks.append([title, href_new])\n",
        "\n",
        "\n",
        "\n"
      ],
      "id": "590bf5d6-b1bf-4094-8b6b-b57ace5ea8ab",
      "execution_count": null,
      "outputs": [
        {
          "output_type": "stream",
          "name": "stdout",
          "text": [
            "10278:  Police Station  =>  https://brickset.com//sets/10278-1/Police-Station\n",
            "10279:  Volkswagen T2 Camper Van  =>  https://brickset.com//sets/10279-1/Volkswagen-T2-Camper-Van\n",
            "10280:  Flower Bouquet  =>  https://brickset.com//sets/10280-1/Flower-Bouquet\n",
            "10281:  Bonsai Tree  =>  https://brickset.com//sets/10281-1/Bonsai-Tree\n",
            "10282:  Adidas Originals Superstar  =>  https://brickset.com//sets/10282-1/Adidas-Originals-Superstar\n",
            "10282:  Adidas Originals Superstar X Footshop 'Blueprinting'  =>  https://brickset.com//sets/10282-2/Adidas-Originals-Superstar-X-Footshop-Blueprinting\n",
            "10283:  NASA Space Shuttle Discovery  =>  https://brickset.com//sets/10283-1/NASA-Space-Shuttle-Discovery\n",
            "10284:  Camp Nou - FC Barcelona  =>  https://brickset.com//sets/10284-1/Camp-Nou-FC-Barcelona\n",
            "10289:  Bird of Paradise  =>  https://brickset.com//sets/10289-1/Bird-of-Paradise\n",
            "10290:  Pickup Truck  =>  https://brickset.com//sets/10290-1/Pickup-Truck\n",
            "10291:  Queer Eye – The Fab 5 Loft  =>  https://brickset.com//sets/10291-1/Queer-Eye-–-The-Fab-5-Loft\n",
            "10292:  The Friends Apartments  =>  https://brickset.com//sets/10292-1/The-Friends-Apartments\n",
            "10293:  Santa's Visit  =>  https://brickset.com//sets/10293-1/Santa-s-Visit\n",
            "10294:  Titanic  =>  https://brickset.com//sets/10294-1/Titanic\n",
            "10295:  Porsche 911  =>  https://brickset.com//sets/10295-1/Porsche-911\n",
            "10772:  Mickey Mouse's Propeller Plane  =>  https://brickset.com//sets/10772-1/Mickey-Mouse-s-Propeller-Plane\n",
            "10773:  Minnie Mouse's Ice Cream Shop  =>  https://brickset.com//sets/10773-1/Minnie-Mouse-s-Ice-Cream-Shop\n",
            "10774:  Mickey Mouse & Minnie Mouse's Space Rocket  =>  https://brickset.com//sets/10774-1/Mickey-Mouse-Minnie-Mouse-s-Space-Rocket\n",
            "10775:  Mickey Mouse & Donald Duck's Farm  =>  https://brickset.com//sets/10775-1/Mickey-Mouse-Donald-Duck-s-Farm\n",
            "10776:  Mickey & Friends Fire Truck & Station  =>  https://brickset.com//sets/10776-1/Mickey-Friends-Fire-Truck-Station\n",
            "10939:  T. rex and Triceratops Dinosaur Breakout  =>  https://brickset.com//sets/10939-1/T-rex-and-Triceratops-Dinosaur-Breakout\n",
            "10940:  Spider-Man Headquarters  =>  https://brickset.com//sets/10940-1/Spider-Man-Headquarters\n",
            "10941:  Mickey & Minnie Birthday Train  =>  https://brickset.com//sets/10941-1/Mickey-Minnie-Birthday-Train\n",
            "10942:  Minnie's House and Cafe  =>  https://brickset.com//sets/10942-1/Minnie-s-House-and-Cafe\n",
            "10943:  Happy Childhood Moments  =>  https://brickset.com//sets/10943-1/Happy-Childhood-Moments\n"
          ]
        }
      ]
    },
    {
      "cell_type": "markdown",
      "metadata": {
        "id": "c0253b61-eae1-47fc-b08e-91757537e8a6"
      },
      "source": [
        "## Question 2. \n",
        "Extract brief information of all products in the list, which is extracted from\n",
        "category page. The brief information for each product include title, url, theme,\n",
        "subtheme, price, pieces, packaging, and set type.\n"
      ],
      "id": "c0253b61-eae1-47fc-b08e-91757537e8a6"
    },
    {
      "cell_type": "code",
      "metadata": {
        "colab": {
          "base_uri": "https://localhost:8080/"
        },
        "id": "36311ede-b9c7-4cf1-b688-b27b61252f24",
        "outputId": "f9964fc0-f873-49ef-e189-91ce87a80109"
      },
      "source": [
        "# Write you code here\n",
        "for divbox in soup.find_all(\"div\", {\"class\": \"meta\"}):\n",
        "    title = divbox.get_text().strip()\n",
        "    href = divbox.find(\"h1\").find(\"a\").get(\"href\")\n",
        "    href_new = \"https://brickset.com/\" + href\n",
        "    print(title, \" => \", href_new)\n",
        "    lst_productlinks.append([title, href_new])\n",
        "    \n",
        "    oneproduct = {}\n",
        "    oneproduct[\"Title\"] =  divbox.find(\"h1\").get_text()\n",
        "    oneproduct[\"Link\"] = href_new   \n",
        "    oneproduct[\"Theme\"] = divbox.find(\"div\", {\"class\":\"tags\"}).find_all(\"a\")[1].get_text()\n",
        "    try:\n",
        "      oneproduct[\"Subtheme\"] = divbox.find(\"div\", {\"class\":\"tags\"}).find_all(\"a\")[2].get_text()\n",
        "    except:\n",
        "      oneproduct[\"Subtheme\"] = \"\"\n",
        "    oneproduct[\"Pieces\"] = divbox.find(\"div\", {\"class\":\"col\"}).find(\"dl\").find(\"dd\").get_text()\n",
        "    oneproduct[\"Packaging\"] = divbox.find(\"div\", {\"class\":\"col\"}).find_all(\"dd\")[5].get_text()\n",
        "    for x in divbox.find(\"div\", {\"class\":\"col\"}).find_all(\"dd\"):\n",
        "      if x.get_text().find('€') >= 0:\n",
        "        oneproduct['Price'] = x.get_text()\n",
        "    #oneproduct[\"Price\"] = divbox.find(\"div\", {\"class\":\"col\"}).find_all(\"dd\")[3].get_text()\n",
        "    oneproduct[\"Set Type\"] = divbox.find(\"div\", {\"class\":\"col\"}).find_all(\"dd\")[9].get_text()\n",
        "    import pprint\n",
        "    pprint.pprint(oneproduct)\n",
        "    break\n",
        "\n",
        "\n",
        "\n"
      ],
      "id": "36311ede-b9c7-4cf1-b688-b27b61252f24",
      "execution_count": null,
      "outputs": [
        {
          "output_type": "stream",
          "name": "stdout",
          "text": [
            "10278:  Police Station10278-1 Creator Expert Modular Buildings 2021 View tags »18 Plus Baked Goods Bar Counter Baseplate Bathroom Bedroom Bench Bird Brick Built Tree Brick Separator Camera City D2c Jail Lamppost Modular Building Police Police Station Restaurant Shop Street Vendor Water Tower ✭✭✭✭✭ 4.3 192 ratings 4 Reviews Official Brickset reviewPieces2923Minifigs5 (5 Unique to this set)Minifigstwn402 twn403 twn404 twn405 twn406 RRP$199.99, 179.99€ | MorePPP6.8c, 6.2cPackagingBoxAvailabilityLEGO exclusiveInstructionsYesAdditional images54Set typeNormalDesigner Chris McVeigh Launch/exit1 Jan 2021 - {t.b.a}Sold at LEGO.com (USA/CA)2 Jan 2021 - Now (10m 23d)Sold at LEGO.com (UK/EU)1 Jan 2021 - Now (10m 24d)  =>  https://brickset.com//sets/10278-1/Police-Station\n",
            "{'Link': 'https://brickset.com//sets/10278-1/Police-Station',\n",
            " 'Packaging': 'Box',\n",
            " 'Pieces': '2923',\n",
            " 'Price': '$199.99, 179.99€ | More',\n",
            " 'Set Type': 'Normal',\n",
            " 'Subtheme': 'Modular Buildings',\n",
            " 'Theme': 'Creator Expert',\n",
            " 'Title': '10278:  Police Station'}\n"
          ]
        }
      ]
    },
    {
      "cell_type": "markdown",
      "metadata": {
        "id": "fa85e2cf-7b4b-47eb-8ef6-94b0d8f2cae9"
      },
      "source": [
        "## Question 3.\n",
        "Crawl product pages of 100-500 items from the list in Question 1 and other categories (such as [2]) and extract full information of each product. They are include set number, title, url, theme, subtheme, tags, price, pieces, packaging, dimensions, set type, age ranger, rating and number of rating.<br>\n",
        "[2] https://brickset.com/sets/21164-1/The-Coral-Reef"
      ],
      "id": "fa85e2cf-7b4b-47eb-8ef6-94b0d8f2cae9"
    },
    {
      "cell_type": "code",
      "metadata": {
        "colab": {
          "base_uri": "https://localhost:8080/"
        },
        "id": "GoKf--YtaIz3",
        "outputId": "dfd99c86-84b2-4156-81f5-8d16966e6aff"
      },
      "source": [
        "lst_productinfos = []\n",
        "\n",
        "def getInfo(page):\n",
        "  url = f'https://brickset.com/sets/year-2021/page-{page}'\n",
        "  r = urllib.request.urlopen(url)\n",
        "  raw_html = r.read().decode(\"utf-8\")\n",
        "  soup = BeautifulSoup(raw_html, 'html.parser')\n",
        "\n",
        "  products = soup.find_all('div', {'class': 'meta'})\n",
        "  for item in products:\n",
        "      products = {\n",
        "      #'Title': item.find('h1').get_text(),\n",
        "      'Link': 'https://brickset.com/' + item.find('h1').find('a')['href'].replace(\"–\", \"-\"),\n",
        "      #'Theme': item.find(\"div\", {\"class\":\"tags\"}).find_all(\"a\")[1].get_text(),\n",
        "      #'Pieces': item.find(\"div\", {\"class\":\"col\"}).find(\"dl\").find(\"dd\").get_text(),\n",
        "      }\n",
        "      lst_productinfos.append(products)\n",
        "  return\n",
        "\n",
        "\n",
        "for x in range(1,21):\n",
        "    getInfo(x)\n",
        "print(lst_productinfos)"
      ],
      "id": "GoKf--YtaIz3",
      "execution_count": null,
      "outputs": [
        {
          "output_type": "stream",
          "name": "stdout",
          "text": [
            "[{'Link': 'https://brickset.com//sets/10278-1/Police-Station'}, {'Link': 'https://brickset.com//sets/10279-1/Volkswagen-T2-Camper-Van'}, {'Link': 'https://brickset.com//sets/10280-1/Flower-Bouquet'}, {'Link': 'https://brickset.com//sets/10281-1/Bonsai-Tree'}, {'Link': 'https://brickset.com//sets/10282-1/Adidas-Originals-Superstar'}, {'Link': 'https://brickset.com//sets/10282-2/Adidas-Originals-Superstar-X-Footshop-Blueprinting'}, {'Link': 'https://brickset.com//sets/10283-1/NASA-Space-Shuttle-Discovery'}, {'Link': 'https://brickset.com//sets/10284-1/Camp-Nou-FC-Barcelona'}, {'Link': 'https://brickset.com//sets/10289-1/Bird-of-Paradise'}, {'Link': 'https://brickset.com//sets/10290-1/Pickup-Truck'}, {'Link': 'https://brickset.com//sets/10291-1/Queer-Eye---The-Fab-5-Loft'}, {'Link': 'https://brickset.com//sets/10292-1/The-Friends-Apartments'}, {'Link': 'https://brickset.com//sets/10293-1/Santa-s-Visit'}, {'Link': 'https://brickset.com//sets/10294-1/Titanic'}, {'Link': 'https://brickset.com//sets/10295-1/Porsche-911'}, {'Link': 'https://brickset.com//sets/10772-1/Mickey-Mouse-s-Propeller-Plane'}, {'Link': 'https://brickset.com//sets/10773-1/Minnie-Mouse-s-Ice-Cream-Shop'}, {'Link': 'https://brickset.com//sets/10774-1/Mickey-Mouse-Minnie-Mouse-s-Space-Rocket'}, {'Link': 'https://brickset.com//sets/10775-1/Mickey-Mouse-Donald-Duck-s-Farm'}, {'Link': 'https://brickset.com//sets/10776-1/Mickey-Friends-Fire-Truck-Station'}, {'Link': 'https://brickset.com//sets/10939-1/T-rex-and-Triceratops-Dinosaur-Breakout'}, {'Link': 'https://brickset.com//sets/10940-1/Spider-Man-Headquarters'}, {'Link': 'https://brickset.com//sets/10941-1/Mickey-Minnie-Birthday-Train'}, {'Link': 'https://brickset.com//sets/10942-1/Minnie-s-House-and-Cafe'}, {'Link': 'https://brickset.com//sets/10943-1/Happy-Childhood-Moments'}, {'Link': 'https://brickset.com//sets/10944-1/Space-Shuttle-Mission'}, {'Link': 'https://brickset.com//sets/10945-1/Garbage-Truck-and-Recycling'}, {'Link': 'https://brickset.com//sets/10946-1/Family-Camping-Van-Adventure'}, {'Link': 'https://brickset.com//sets/10947-1/Race-Cars'}, {'Link': 'https://brickset.com//sets/10948-1/Parking-Garage-and-Car-Wash'}, {'Link': 'https://brickset.com//sets/10949-1/Farm-Animal-Care'}, {'Link': 'https://brickset.com//sets/10950-1/Farm-Tractor-Animal-Care'}, {'Link': 'https://brickset.com//sets/10951-1/Horse-Stable-and-Pony-Care'}, {'Link': 'https://brickset.com//sets/10952-1/Barn-Tractor-Farm-Animal-Care'}, {'Link': 'https://brickset.com//sets/10953-1/Unicorn'}, {'Link': 'https://brickset.com//sets/10954-1/Number-Train-Learn-To-Count'}, {'Link': 'https://brickset.com//sets/10955-1/Animal-Train'}, {'Link': 'https://brickset.com//sets/10956-1/Amusement-Park'}, {'Link': 'https://brickset.com//sets/10957-1/Fire-Helicopter-Police-Car'}, {'Link': 'https://brickset.com//sets/10958-1/Creative-Birthday-Party'}, {'Link': 'https://brickset.com//sets/10961-1/Airplane-Airport'}, {'Link': 'https://brickset.com//sets/11012-1/Creative-White-Bricks'}, {'Link': 'https://brickset.com//sets/11013-1/Creative-Transparent-Bricks'}, {'Link': 'https://brickset.com//sets/11014-1/Bricks-and-Wheels'}, {'Link': 'https://brickset.com//sets/11015-1/Around-the-World'}, {'Link': 'https://brickset.com//sets/11016-1/Creative-Building-Bricks'}, {'Link': 'https://brickset.com//sets/11944-1/Skull'}, {'Link': 'https://brickset.com//sets/11945-1/Steam-Locomotive'}, {'Link': 'https://brickset.com//sets/11946-1/Penguin'}, {'Link': 'https://brickset.com//sets/11947-1/Time-Machine'}, {'Link': 'https://brickset.com//sets/11948-1/Carnivorous-Plant'}, {'Link': 'https://brickset.com//sets/11949-1/Parrot'}, {'Link': 'https://brickset.com//sets/11950-1/Racing-Car'}, {'Link': 'https://brickset.com//sets/11951-1/Orangutan'}, {'Link': 'https://brickset.com//sets/11952-1/Wind-Energy'}, {'Link': 'https://brickset.com//sets/11953-1/Gecko'}, {'Link': 'https://brickset.com//sets/11954-1/UFO'}, {'Link': 'https://brickset.com//sets/11955-1/Lion'}, {'Link': 'https://brickset.com//sets/11956-1/Parts-for-Super-Nature'}, {'Link': 'https://brickset.com//sets/11957-1/Parts-for-{LEGO-Build-Book}'}, {'Link': 'https://brickset.com//sets/21056-1/Taj-Mahal'}, {'Link': 'https://brickset.com//sets/21164-1/The-Coral-Reef'}, {'Link': 'https://brickset.com//sets/21165-1/The-Bee-Farm'}, {'Link': 'https://brickset.com//sets/21166-1/The-Abandoned-Mine'}, {'Link': 'https://brickset.com//sets/21167-1/The-Trading-Post'}, {'Link': 'https://brickset.com//sets/21168-1/The-Warped-Forest'}, {'Link': 'https://brickset.com//sets/21169-1/The-First-Adventure'}, {'Link': 'https://brickset.com//sets/21170-1/The-Pig-House'}, {'Link': 'https://brickset.com//sets/21171-1/The-Horse-Stable'}, {'Link': 'https://brickset.com//sets/21172-1/The-Ruined-Portal'}, {'Link': 'https://brickset.com//sets/21173-1/The-Sky-Tower'}, {'Link': 'https://brickset.com//sets/21174-1/The-Modern-Treehouse'}, {'Link': 'https://brickset.com//sets/21176-1/The-Jungle-Abomination'}, {'Link': 'https://brickset.com//sets/21226-1/Art-Project-Create-Together'}, {'Link': 'https://brickset.com//sets/21325-1/Medieval-Blacksmith'}, {'Link': 'https://brickset.com//sets/21326-1/Winnie-the-Pooh'}, {'Link': 'https://brickset.com//sets/21327-1/Typewriter'}, {'Link': 'https://brickset.com//sets/21328-1/Seinfeld'}, {'Link': 'https://brickset.com//sets/21329-1/Fender-Stratocaster'}, {'Link': 'https://brickset.com//sets/21330-1/Home-Alone'}, {'Link': 'https://brickset.com//sets/30331-1/The-Nether-Duel'}, {'Link': 'https://brickset.com//sets/30332-1/My-First-Space-Rocket'}, {'Link': 'https://brickset.com//sets/30343-1/McLaren-Elva'}, {'Link': 'https://brickset.com//sets/30344-1/Mini-Monkey-King-Warrior-Mech'}, {'Link': 'https://brickset.com//sets/30387-1/Bob-Minion-with-Robot-Arms'}, {'Link': 'https://brickset.com//sets/30388-1/Imperial-Shuttle'}, {'Link': 'https://brickset.com//sets/30389-1/Fuzzy-Mushroom-Platform'}, {'Link': 'https://brickset.com//sets/30391-1/Rapunzel-s-Boat'}, {'Link': 'https://brickset.com//sets/30392-1/Hermione-s-Study-Desk'}, {'Link': 'https://brickset.com//sets/30413-1/Flower-Cart'}, {'Link': 'https://brickset.com//sets/30414-1/Emma-s-Magical-Box'}, {'Link': 'https://brickset.com//sets/30454-1/Shang-Chi-and-The-Great-Protector'}, {'Link': 'https://brickset.com//sets/30455-1/{-}'}, {'Link': 'https://brickset.com//sets/30465-1/Helicopter'}, {'Link': 'https://brickset.com//sets/30539-1/Lloyd-s-Quad-Bike'}, {'Link': 'https://brickset.com//sets/30557-1/Photo-Holder-Cube'}, {'Link': 'https://brickset.com//sets/30558-1/Raya-and-the-Ongi'}, {'Link': 'https://brickset.com//sets/30563-1/Build-Your-Own-Snail-with-Superpowers-Make-It-Yours'}, {'Link': 'https://brickset.com//sets/30564-1/Build-Your-Own-Monster-or-Vehicles---Make-It-Yours'}, {'Link': 'https://brickset.com//sets/30565-1/Birthday-Clown'}, {'Link': 'https://brickset.com//sets/30566-1/Fire-Helicopter'}, {'Link': 'https://brickset.com//sets/30567-1/Police-Water-Scooter'}, {'Link': 'https://brickset.com//sets/30568-1/Skater'}, {'Link': 'https://brickset.com//sets/30569-1/LEGO-Stand'}, {'Link': 'https://brickset.com//sets/30570-1/Wildlife-Rescue-Hovercraft'}, {'Link': 'https://brickset.com//sets/30577-1/Super-Muscle-Car'}, {'Link': 'https://brickset.com//sets/30578-1/German-Shepherd'}, {'Link': 'https://brickset.com//sets/30579-1/Easter-Chick-Egg'}, {'Link': 'https://brickset.com//sets/30580-1/Santa-Claus'}, {'Link': 'https://brickset.com//sets/30591-1/Titanium-Mini-Mech'}, {'Link': 'https://brickset.com//sets/31111-1/Cyber-Drone'}, {'Link': 'https://brickset.com//sets/31112-1/Wild-Lion'}, {'Link': 'https://brickset.com//sets/31113-1/Race-Car-Transporter'}, {'Link': 'https://brickset.com//sets/31114-1/Superbike'}, {'Link': 'https://brickset.com//sets/31115-1/Space-Mining-Mech'}, {'Link': 'https://brickset.com//sets/31116-1/Safari-Wildlife-Tree-House'}, {'Link': 'https://brickset.com//sets/31117-1/Space-Shuttle-Adventure'}, {'Link': 'https://brickset.com//sets/31118-1/Surfer-Beach-House'}, {'Link': 'https://brickset.com//sets/31119-1/Ferris-Wheel'}, {'Link': 'https://brickset.com//sets/31120-1/Medieval-Castle'}, {'Link': 'https://brickset.com//sets/31121-1/Crocodile'}, {'Link': 'https://brickset.com//sets/31122-1/Fish-Tank'}, {'Link': 'https://brickset.com//sets/31201-1/Harry-Potter-Hogwarts-Crests'}, {'Link': 'https://brickset.com//sets/31202-1/Disney-s-Mickey-Mouse'}, {'Link': 'https://brickset.com//sets/31203-1/World-Map'}, {'Link': 'https://brickset.com//sets/40417-1/Year-of-the-Ox'}, {'Link': 'https://brickset.com//sets/40420-1/Gru-Stuart-and-Otto'}, {'Link': 'https://brickset.com//sets/40421-1/Belle-Bottom-Kevin-and-Bob'}, {'Link': 'https://brickset.com//sets/40440-1/German-Shepherds'}, {'Link': 'https://brickset.com//sets/40441-1/Shorthair-Cats'}, {'Link': 'https://brickset.com//sets/40442-1/Goldfish'}, {'Link': 'https://brickset.com//sets/40443-1/Budgies'}, {'Link': 'https://brickset.com//sets/40448-1/Vintage-Car'}, {'Link': 'https://brickset.com//sets/40449-1/Easter-Bunny-s-Carrot-House'}, {'Link': 'https://brickset.com//sets/40450-1/Amelia-Earhart-Tribute'}, {'Link': 'https://brickset.com//sets/40451-1/Tatooine-Homestead'}, {'Link': 'https://brickset.com//sets/40452-1/Hogwarts-Gryffindor-Dorms'}, {'Link': 'https://brickset.com//sets/40453-1/Batman-vs-The-Penguin-Harley-Quinn'}, {'Link': 'https://brickset.com//sets/40454-1/Spider-Man-versus-Venom-and-Iron-Venom'}, {'Link': 'https://brickset.com//sets/40456-1/Mickey-Mouse'}, {'Link': 'https://brickset.com//sets/40457-1/Minnie-Mouse'}, {'Link': 'https://brickset.com//sets/40458-1/LEGO-House-Chef'}, {'Link': 'https://brickset.com//sets/40460-1/Roses'}, {'Link': 'https://brickset.com//sets/40461-1/Tulips'}, {'Link': 'https://brickset.com//sets/40462-1/Valentine-s-Brown-Bear'}, {'Link': 'https://brickset.com//sets/40463-1/Easter-Bunny'}, {'Link': 'https://brickset.com//sets/40464-1/Chinatown'}, {'Link': 'https://brickset.com//sets/40465-1/Food'}, {'Link': 'https://brickset.com//sets/40466-1/Chinese-New-Year-Pandas'}, {'Link': 'https://brickset.com//sets/40468-1/Yellow-Taxi'}, {'Link': 'https://brickset.com//sets/40469-1/Tuk-Tuk'}, {'Link': 'https://brickset.com//sets/40472-1/Monkie-Kid-s-RC-Race'}, {'Link': 'https://brickset.com//sets/40473-1/Water-Park'}, {'Link': 'https://brickset.com//sets/40476-1/Daisy-Duck'}, {'Link': 'https://brickset.com//sets/40477-1/Scrooge-McDuck-Huey-Dewey-Louie'}, {'Link': 'https://brickset.com//sets/40478-1/Mini-Disney-Castle'}, {'Link': 'https://brickset.com//sets/40479-1/Dalmatians'}, {'Link': 'https://brickset.com//sets/40480-1/Ginger-Tabby'}, {'Link': 'https://brickset.com//sets/40481-1/Cockatiel'}, {'Link': 'https://brickset.com//sets/40482-1/Hamster'}, {'Link': 'https://brickset.com//sets/40483-1/Luke-Skywalker-s-Lightsaber'}, {'Link': 'https://brickset.com//sets/40484-1/Santa-s-Front-Yard'}, {'Link': 'https://brickset.com//sets/40485-1/FC-Barcelona-Celebration'}, {'Link': 'https://brickset.com//sets/40486-1/Mini-Adidas-Originals-Superstar'}, {'Link': 'https://brickset.com//sets/40487-1/Sailboat-Adventure'}, {'Link': 'https://brickset.com//sets/40488-1/Coffee-Cart'}, {'Link': 'https://brickset.com//sets/40490-1/Ninjago-10th-Anniversary-BrickHeadz'}, {'Link': 'https://brickset.com//sets/40492-1/La-Catrina'}, {'Link': 'https://brickset.com//sets/40493-1/Spider-Haunted-House-Pack'}, {'Link': 'https://brickset.com//sets/40494-1/Polar-Bear-Gift-Pack'}, {'Link': 'https://brickset.com//sets/40495-1/Harry-Hermione-Ron-Hagrid'}, {'Link': 'https://brickset.com//sets/40496-1/Voldemort-Nagini-Bellatrix'}, {'Link': 'https://brickset.com//sets/40497-1/Halloween-Owl'}, {'Link': 'https://brickset.com//sets/40498-1/Christmas-Penguin'}, {'Link': 'https://brickset.com//sets/40499-1/Santa-s-Sleigh'}, {'Link': 'https://brickset.com//sets/40500-1/Wizarding-World-Minifigure-Accessory-Set'}, {'Link': 'https://brickset.com//sets/40502-1/The-Brick-Moulding-Machine'}, {'Link': 'https://brickset.com//sets/40511-1/Kung-Fu-Training'}, {'Link': 'https://brickset.com//sets/40512-1/Fun-and-Funky-VIP-Add-On-Pack'}, {'Link': 'https://brickset.com//sets/40513-1/Spooky-VIP-Add-On-Pack'}, {'Link': 'https://brickset.com//sets/40514-1/Winter-Wonderland-VIP-Add-On-Pack'}, {'Link': 'https://brickset.com//sets/40515-1/Pirates-and-Treasure-VIP-Add-On-Pack'}, {'Link': 'https://brickset.com//sets/40516-1/Everyone-is-Awesome'}, {'Link': 'https://brickset.com//sets/41439-1/Cat-Grooming-Car'}, {'Link': 'https://brickset.com//sets/41440-1/Heartlake-City-Bakery'}, {'Link': 'https://brickset.com//sets/41441-1/Horse-Training-and-Trailer'}, {'Link': 'https://brickset.com//sets/41442-1/Vet-Clinic-Rescue-Buggy'}, {'Link': 'https://brickset.com//sets/41443-1/Olivia-s-Electric-Car'}, {'Link': 'https://brickset.com//sets/41444-1/Heartlake-City-Organic-Cafe'}, {'Link': 'https://brickset.com//sets/41445-1/Vet-Clinic-Ambulance'}, {'Link': 'https://brickset.com//sets/41446-1/Heartlake-City-Vet-Clinic'}, {'Link': 'https://brickset.com//sets/41447-1/Heartlake-City-Park'}, {'Link': 'https://brickset.com//sets/41448-1/Heartlake-City-Movie-Theatre'}, {'Link': 'https://brickset.com//sets/41449-1/Andrea-s-Family-House'}, {'Link': 'https://brickset.com//sets/41450-1/Heartlake-City-Shopping-Mall'}, {'Link': 'https://brickset.com//sets/41662-1/Olivia-s-Flamingo-Cube'}, {'Link': 'https://brickset.com//sets/41663-1/Emma-s-Dalmatian-Cube'}, {'Link': 'https://brickset.com//sets/41664-1/Mia-s-Pug-Cube'}, {'Link': 'https://brickset.com//sets/41665-1/Stephanie-s-Cat-Cube'}, {'Link': 'https://brickset.com//sets/41666-1/Andrea-s-Bunny-Cube'}, {'Link': 'https://brickset.com//sets/41667-1/Olivia-s-Gaming-Cube'}, {'Link': 'https://brickset.com//sets/41668-1/Emma-s-Fashion-Cube'}, {'Link': 'https://brickset.com//sets/41669-1/Mia-s-Soccer-Cube'}, {'Link': 'https://brickset.com//sets/41670-1/Stephanie-s-Ballet-Cube'}, {'Link': 'https://brickset.com//sets/41671-1/Andrea-s-Swimming-Cube'}, {'Link': 'https://brickset.com//sets/41677-1/Forest-Waterfall'}, {'Link': 'https://brickset.com//sets/41679-1/Forest-House'}, {'Link': 'https://brickset.com//sets/41681-1/Forest-Camper-Van-and-Sailboat'}, {'Link': 'https://brickset.com//sets/41682-1/Heartlake-City-School'}, {'Link': 'https://brickset.com//sets/41683-1/Forest-Horseback-Riding-Centre'}, {'Link': 'https://brickset.com//sets/41684-1/Heartlake-City-Grand-Hotel'}, {'Link': 'https://brickset.com//sets/41685-1/Magical-Funfair-Roller-Coaster'}, {'Link': 'https://brickset.com//sets/41686-1/Magical-Acrobatics'}, {'Link': 'https://brickset.com//sets/41687-1/Magical-Funfair-Stalls'}, {'Link': 'https://brickset.com//sets/41688-1/Magical-Caravan'}, {'Link': 'https://brickset.com//sets/41689-1/Magical-Ferris-Wheel-and-Slide'}, {'Link': 'https://brickset.com//sets/41690-1/Friends-Advent-Calendar'}, {'Link': 'https://brickset.com//sets/41691-1/Doggy-Day-Care'}, {'Link': 'https://brickset.com//sets/41692-1/Vet-Clinic-Rescue-Helicopter'}, {'Link': 'https://brickset.com//sets/41693-1/Surfer-Beachfront'}, {'Link': 'https://brickset.com//sets/41909-1/Mermaid-Vibes-Bracelets'}, {'Link': 'https://brickset.com//sets/41910-1/Ice-Cream-Besties-Bracelets'}, {'Link': 'https://brickset.com//sets/41918-1/Adventure-Bracelets'}, {'Link': 'https://brickset.com//sets/41921-1/Extra-Dots-Series-3'}, {'Link': 'https://brickset.com//sets/41922-1/Cool-Cactus-Bracelet'}, {'Link': 'https://brickset.com//sets/41923-1/Monster-Bracelets'}, {'Link': 'https://brickset.com//sets/41924-1/Secret-Holder'}, {'Link': 'https://brickset.com//sets/41925-1/Secret-Boxes'}, {'Link': 'https://brickset.com//sets/41926-1/Creative-Party-Kit'}, {'Link': 'https://brickset.com//sets/41927-1/Bag-Tag-Dog'}, {'Link': 'https://brickset.com//sets/41928-1/Bag-Tag-Narwhal'}, {'Link': 'https://brickset.com//sets/41929-1/Bag-Tag-Leopard'}, {'Link': 'https://brickset.com//sets/41930-1/Bag-Tag-Panda'}, {'Link': 'https://brickset.com//sets/41931-1/Extra-DOTS-Series-4'}, {'Link': 'https://brickset.com//sets/41932-1/Extra-DOTS-Series-5'}, {'Link': 'https://brickset.com//sets/41933-1/Music-Bracelet'}, {'Link': 'https://brickset.com//sets/41934-1/Starlight-Bracelets'}, {'Link': 'https://brickset.com//sets/41935-1/Lots-of-DOTS'}, {'Link': 'https://brickset.com//sets/41936-1/Pencil-Holder'}, {'Link': 'https://brickset.com//sets/41937-1/Multi-Pack-Summer-Vibes'}, {'Link': 'https://brickset.com//sets/41938-1/Creative-Designer-Box'}, {'Link': 'https://brickset.com//sets/41939-1/Bag-Tag-Dragon'}, {'Link': 'https://brickset.com//sets/41940-1/Bag-Tag-Unicorn'}, {'Link': 'https://brickset.com//sets/42116-1/Skid-Steer-Loader'}, {'Link': 'https://brickset.com//sets/42117-1/Race-Plane'}, {'Link': 'https://brickset.com//sets/42118-1/Monster-Jam-Grave-Digger'}, {'Link': 'https://brickset.com//sets/42119-1/Monster-Jam-Max-D'}, {'Link': 'https://brickset.com//sets/42120-1/Rescue-Hovercraft'}, {'Link': 'https://brickset.com//sets/42121-1/Heavy-Duty-Excavator'}, {'Link': 'https://brickset.com//sets/42122-1/Jeep-Wrangler'}, {'Link': 'https://brickset.com//sets/42123-1/McLaren-Senna-GTR'}, {'Link': 'https://brickset.com//sets/42124-1/Off-Road-Buggy'}, {'Link': 'https://brickset.com//sets/42125-1/Ferrari-488-GTE-AF-Corse-51'}, {'Link': 'https://brickset.com//sets/42126-1/Ford-F-150-Raptor'}, {'Link': 'https://brickset.com//sets/42128-1/Heavy-Duty-Tow-Truck'}, {'Link': 'https://brickset.com//sets/42129-1/4x4-Mercedes-Benz-Zetros-Trial-Truck'}, {'Link': 'https://brickset.com//sets/42131-1/Cat-D11-Bulldozer'}, {'Link': 'https://brickset.com//sets/43101-0/Bandmates-Series-1-{Random-box}'}, {'Link': 'https://brickset.com//sets/43101-1/Ice-Cream-Saxophonist'}, {'Link': 'https://brickset.com//sets/43101-2/Samurapper'}, {'Link': 'https://brickset.com//sets/43101-3/Shark-Singer'}, {'Link': 'https://brickset.com//sets/43101-4/DJ-Cheetah'}, {'Link': 'https://brickset.com//sets/43101-5/Genie-Dancer'}, {'Link': 'https://brickset.com//sets/43101-6/Discowboy'}, {'Link': 'https://brickset.com//sets/43101-7/Red-Panda-Dancer'}, {'Link': 'https://brickset.com//sets/43101-8/Banshee-Singer'}, {'Link': 'https://brickset.com//sets/43101-9/Alien-Keytarist'}, {'Link': 'https://brickset.com//sets/43101-10/Cotton-Candy-Cheerleader'}, {'Link': 'https://brickset.com//sets/43101-11/Bunny-Dancer'}, {'Link': 'https://brickset.com//sets/43101-12/Werewolf-Drummer'}, {'Link': 'https://brickset.com//sets/43101-13/Bandmates-Series-1-Complete'}, {'Link': 'https://brickset.com//sets/43101-14/Bandmates-Series-1-Sealed-Box'}, {'Link': 'https://brickset.com//sets/43102-1/Candy-Mermaid-BeatBox'}, {'Link': 'https://brickset.com//sets/43103-1/Punk-Pirate-BeatBox'}, {'Link': 'https://brickset.com//sets/43104-1/Alien-DJ-BeatBox'}, {'Link': 'https://brickset.com//sets/43105-1/Party-Llama-BeatBox'}, {'Link': 'https://brickset.com//sets/43106-1/Unicorn-DJ-BeatBox'}, {'Link': 'https://brickset.com//sets/43107-1/HipHop-Robot-BeatBox'}, {'Link': 'https://brickset.com//sets/43108-0/Bandmates-Series-2-{Random-box}'}, {'Link': 'https://brickset.com//sets/43108-1/Alien-Dancer'}, {'Link': 'https://brickset.com//sets/43108-2/Discowgirl-Guitarist'}, {'Link': 'https://brickset.com//sets/43108-3/DJ-Rasp-Beary'}, {'Link': 'https://brickset.com//sets/43108-4/Dragon-Guitarist'}, {'Link': 'https://brickset.com//sets/43108-5/Karaoke-Mermaid'}, {'Link': 'https://brickset.com//sets/43108-6/DJ-Captain'}, {'Link': 'https://brickset.com//sets/43108-7/Puppy-Singer'}, {'Link': 'https://brickset.com//sets/43108-8/DJ-Beatbox'}, {'Link': 'https://brickset.com//sets/43108-9/Slime-Singer'}, {'Link': 'https://brickset.com//sets/43108-10/Carnival-Dancer'}, {'Link': 'https://brickset.com//sets/43108-11/Vampire-Bassist'}, {'Link': 'https://brickset.com//sets/43108-12/Zombie-Dancer'}, {'Link': 'https://brickset.com//sets/43108-13/Bandmates-Series-2-Complete'}, {'Link': 'https://brickset.com//sets/43108-14/Bandmates-Series-2-Sealed-Box'}, {'Link': 'https://brickset.com//sets/43109-1/Metal-Dragon-BeatBox'}, {'Link': 'https://brickset.com//sets/43110-1/Folk-Fairy-BeatBox'}, {'Link': 'https://brickset.com//sets/43111-1/Candy-Castle-Stage'}, {'Link': 'https://brickset.com//sets/43112-1/Robo-HipHop-Car'}, {'Link': 'https://brickset.com//sets/43113-1/K-Pawp-Concert'}, {'Link': 'https://brickset.com//sets/43114-1/Punk-Pirate-Ship'}, {'Link': 'https://brickset.com//sets/43115-1/The-Boombox'}, {'Link': 'https://brickset.com//sets/43181-1/Raya-and-the-Heart-Palace'}, {'Link': 'https://brickset.com//sets/43184-1/Raya-and-Sisu-Dragon'}, {'Link': 'https://brickset.com//sets/43185-1/Boun-s-Boat'}, {'Link': 'https://brickset.com//sets/43186-1/Bruni-the-Salamander-Buildable-Character'}, {'Link': 'https://brickset.com//sets/43189-1/Elsa-and-the-Nokk-Storybook-Adventures'}, {'Link': 'https://brickset.com//sets/43191-1/Ariel-s-Celebration-Boat'}, {'Link': 'https://brickset.com//sets/43192-1/Cinderella-s-Royal-Carriage'}, {'Link': 'https://brickset.com//sets/43193-1/Ariel-Belle-Cinderella-and-Tiana-s-Storybook-Adventures'}, {'Link': 'https://brickset.com//sets/43194-1/Anna-and-Elsa-s-Frozen-Wonderland'}, {'Link': 'https://brickset.com//sets/43195-1/Belle-and-Rapunzel-s-Royal-Stables'}, {'Link': 'https://brickset.com//sets/43196-1/Belle-and-the-Beast-s-Castle'}, {'Link': 'https://brickset.com//sets/43197-1/The-Ice-Castle'}, {'Link': 'https://brickset.com//sets/43200-1/Antonio-s-Magical-Door'}, {'Link': 'https://brickset.com//sets/43201-1/Isabela-s-Magical-Door'}, {'Link': 'https://brickset.com//sets/43202-1/The-Madrigal-House'}, {'Link': 'https://brickset.com//sets/45345-1/SPIKE-Essential-Set'}, {'Link': 'https://brickset.com//sets/45400-1/BricQ-Motion-Prime'}, {'Link': 'https://brickset.com//sets/45401-1/BricQ-Motion-Essential'}, {'Link': 'https://brickset.com//sets/45607-1/Small-motor'}, {'Link': 'https://brickset.com//sets/45608-1/3×3-colour-light-matrix'}, {'Link': 'https://brickset.com//sets/45609-1/Small-hub'}, {'Link': 'https://brickset.com//sets/45611-1/Micro-USB-connector-cable'}, {'Link': 'https://brickset.com//sets/45612-1/Battery-for-small-hub'}, {'Link': 'https://brickset.com//sets/45681-1/Spike-Prime-Expansion-Set-(v2)'}, {'Link': 'https://brickset.com//sets/45816-1/FIRST-LEGO-League-Challenge'}, {'Link': 'https://brickset.com//sets/45817-1/Cargo-Connect-Explore-Set'}, {'Link': 'https://brickset.com//sets/45818-1/Cargo-Connect-Discover-Set'}, {'Link': 'https://brickset.com//sets/60275-1/Police-Helicopter'}, {'Link': 'https://brickset.com//sets/60276-1/Police-Prisoner-Transport'}, {'Link': 'https://brickset.com//sets/60277-1/Police-Patrol-Boat'}, {'Link': 'https://brickset.com//sets/60278-1/Crook-s-Hideout-Raid'}, {'Link': 'https://brickset.com//sets/60279-1/Fire-Hazard-Truck'}, {'Link': 'https://brickset.com//sets/60280-1/Fire-Ladder-Truck'}, {'Link': 'https://brickset.com//sets/60281-1/Fire-Rescue-Helicopter'}, {'Link': 'https://brickset.com//sets/60282-1/Fire-Command-Unit'}, {'Link': 'https://brickset.com//sets/60283-1/Holiday-Camper-Van'}, {'Link': 'https://brickset.com//sets/60284-1/Roadwork-Truck'}, {'Link': 'https://brickset.com//sets/60285-1/Sports-Car'}, {'Link': 'https://brickset.com//sets/60286-1/Beach-Rescue-ATV'}, {'Link': 'https://brickset.com//sets/60287-1/Tractor'}, {'Link': 'https://brickset.com//sets/60288-1/Race-Buggy-Transporter'}, {'Link': 'https://brickset.com//sets/60289-1/Airshow-Jet-Transporter'}, {'Link': 'https://brickset.com//sets/60290-1/Skate-Park'}, {'Link': 'https://brickset.com//sets/60291-1/Family-House'}, {'Link': 'https://brickset.com//sets/60292-1/Town-Centre'}, {'Link': 'https://brickset.com//sets/60293-1/Stunt-Park'}, {'Link': 'https://brickset.com//sets/60294-1/Stunt-Show-Truck'}, {'Link': 'https://brickset.com//sets/60295-1/Stunt-Show-Arena'}, {'Link': 'https://brickset.com//sets/60296-1/Wheelie-Stunt-Bike'}, {'Link': 'https://brickset.com//sets/60297-1/Demolition-Stunt-Bike'}, {'Link': 'https://brickset.com//sets/60298-1/Rocket-Stunt-Bike'}, {'Link': 'https://brickset.com//sets/60299-1/Stunt-Competition'}, {'Link': 'https://brickset.com//sets/60300-1/Wildlife-Rescue-ATV'}, {'Link': 'https://brickset.com//sets/60301-1/Wildlife-Rescue-Off-Roader'}, {'Link': 'https://brickset.com//sets/60302-1/Wildlife-Rescue-Operation'}, {'Link': 'https://brickset.com//sets/60303-1/City-Advent-Calendar'}, {'Link': 'https://brickset.com//sets/60304-1/Road-Plates'}, {'Link': 'https://brickset.com//sets/60305-1/Car-Transporter'}, {'Link': 'https://brickset.com//sets/60306-1/Shopping-Street'}, {'Link': 'https://brickset.com//sets/60307-1/Wildlife-Rescue-Camp'}, {'Link': 'https://brickset.com//sets/60308-1/Seaside-Police-and-Fire-Mission'}, {'Link': 'https://brickset.com//sets/60309-1/Selfie-Stunt-Bike'}, {'Link': 'https://brickset.com//sets/60310-1/Chicken-Stunt-Bike'}, {'Link': 'https://brickset.com//sets/60311-1/Fire-Stunt-Bike'}, {'Link': 'https://brickset.com//sets/66662-1/Super-Pack-2-in-1'}, {'Link': 'https://brickset.com//sets/66664-1/Bundle-Pack-1'}, {'Link': 'https://brickset.com//sets/66665-1/Bundle-Pack-2'}, {'Link': 'https://brickset.com//sets/66666-1/LEGO-Masters-Co-pack-4-in-1'}, {'Link': 'https://brickset.com//sets/66671-1/Mech-armour-collection-3-in-1'}, {'Link': 'https://brickset.com//sets/66673-1/Animal-Gift-Set'}, {'Link': 'https://brickset.com//sets/66674-1/Skywalker-Adventures-Pack'}, {'Link': 'https://brickset.com//sets/66677-1/2-in-1-Super-Pack'}, {'Link': 'https://brickset.com//sets/66678-1/LEGO-Minifigures-Marvel-Studios-Series-{Box-of-6-random-bags}'}, {'Link': 'https://brickset.com//sets/66683-1/Bundle-Pack-3-in-1'}, {'Link': 'https://brickset.com//sets/66684-1/Vehicles-Gift-Set'}, {'Link': 'https://brickset.com//sets/71029-0/LEGO-Minifigures-Series-21-{Random-bag}'}, {'Link': 'https://brickset.com//sets/71029-1/Paddle-Surfer'}, {'Link': 'https://brickset.com//sets/71029-2/Violin-Kid'}, {'Link': 'https://brickset.com//sets/71029-3/Shipwreck-Survivor'}, {'Link': 'https://brickset.com//sets/71029-4/Ladybird-Girl'}, {'Link': 'https://brickset.com//sets/71029-5/Pug-Costume-Guy'}, {'Link': 'https://brickset.com//sets/71029-6/Centaur-Warrior'}, {'Link': 'https://brickset.com//sets/71029-7/Beekeeper'}, {'Link': 'https://brickset.com//sets/71029-8/Ancient-Warrior'}, {'Link': 'https://brickset.com//sets/71029-9/Airplane-Girl'}, {'Link': 'https://brickset.com//sets/71029-10/Space-Police-Guy'}, {'Link': 'https://brickset.com//sets/71029-11/Alien'}, {'Link': 'https://brickset.com//sets/71029-12/Cabaret-Singer'}, {'Link': 'https://brickset.com//sets/71029-13/LEGO-Minifigures-Series-21-Complete'}, {'Link': 'https://brickset.com//sets/71029-14/LEGO-Minifigures-Series-21-Sealed-Box'}, {'Link': 'https://brickset.com//sets/71030-0/Collectable-Minifigures-Looney-Tunes-Series-{Random-bag}'}, {'Link': 'https://brickset.com//sets/71030-1/Lola-Bunny'}, {'Link': 'https://brickset.com//sets/71030-2/Bugs-Bunny'}, {'Link': 'https://brickset.com//sets/71030-3/Wile-E-Coyote'}, {'Link': 'https://brickset.com//sets/71030-4/Road-Runner'}, {'Link': 'https://brickset.com//sets/71030-5/Tweety-Bird'}, {'Link': 'https://brickset.com//sets/71030-6/Sylvester-the-Cat'}, {'Link': 'https://brickset.com//sets/71030-7/Daffy-Duck'}, {'Link': 'https://brickset.com//sets/71030-8/Speedy-Gonzales'}, {'Link': 'https://brickset.com//sets/71030-9/Tasmanian-Devil'}, {'Link': 'https://brickset.com//sets/71030-10/Marvin-the-Martian'}, {'Link': 'https://brickset.com//sets/71030-11/Petunia-Pig'}, {'Link': 'https://brickset.com//sets/71030-12/Porky-Pig'}, {'Link': 'https://brickset.com//sets/71030-13/LEGO-Minifigures-Looney-Tunes-Series-Complete'}, {'Link': 'https://brickset.com//sets/71030-14/LEGO-Minifigures-Looney-Tunes-Series-Sealed-Box'}, {'Link': 'https://brickset.com//sets/71031-0/Collectable-Minifigures-Marvel-Studios-Series-{Random-bag}'}, {'Link': 'https://brickset.com//sets/71031-1/The-Scarlet-Witch'}, {'Link': 'https://brickset.com//sets/71031-2/The-Vision'}, {'Link': 'https://brickset.com//sets/71031-3/Monica-Rambeau'}, {'Link': 'https://brickset.com//sets/71031-4/Winter-Soldier'}, {'Link': 'https://brickset.com//sets/71031-5/Captain-America'}, {'Link': 'https://brickset.com//sets/71031-6/Loki'}, {'Link': 'https://brickset.com//sets/71031-7/Sylvie'}, {'Link': 'https://brickset.com//sets/71031-8/Zombie-Hunter-Spidey'}, {'Link': 'https://brickset.com//sets/71031-9/Zombie-Captain-America'}, {'Link': 'https://brickset.com//sets/71031-10/Captain-Carter'}, {'Link': 'https://brickset.com//sets/71031-11/T-Challa-Star-Lord'}, {'Link': 'https://brickset.com//sets/71031-12/Gamora-with-Blade-of-Thanos'}, {'Link': 'https://brickset.com//sets/71031-13/LEGO-Minifigures-Marvel-Studios-Series-Complete'}, {'Link': 'https://brickset.com//sets/71031-14/LEGO-Minifigures-Marvel-Studios-Series-Sealed-Box'}, {'Link': 'https://brickset.com//sets/71380-1/Master-Your-Adventure'}, {'Link': 'https://brickset.com//sets/71381-1/Chain-Chomp-Jungle-Encounter'}, {'Link': 'https://brickset.com//sets/71382-1/Piranha-Plant-Puzzling-Challenge'}, {'Link': 'https://brickset.com//sets/71383-1/Wiggler-s-Poison-Swamp'}, {'Link': 'https://brickset.com//sets/71384-1/Penguin-Mario-Power-Up-Pack'}, {'Link': 'https://brickset.com//sets/71385-1/Tanooki-Mario-Power-Up-Pack'}, {'Link': 'https://brickset.com//sets/71386-0/Character-Pack-Series-2-{Random-bag}'}, {'Link': 'https://brickset.com//sets/71386-1/Huckit-Crab'}, {'Link': 'https://brickset.com//sets/71386-2/Spiny-Cheep-Cheep'}, {'Link': 'https://brickset.com//sets/71386-3/Ninji'}, {'Link': 'https://brickset.com//sets/71386-4/Foo'}, {'Link': 'https://brickset.com//sets/71386-5/Parachute-Goomba'}, {'Link': 'https://brickset.com//sets/71386-6/Para-Beetle'}, {'Link': 'https://brickset.com//sets/71386-7/Poison-Mushroom'}, {'Link': 'https://brickset.com//sets/71386-8/Thwimp'}, {'Link': 'https://brickset.com//sets/71386-9/Fly-Guy'}, {'Link': 'https://brickset.com//sets/71386-10/Bone-Goomba'}, {'Link': 'https://brickset.com//sets/71386-11/Character-Pack-Series-2-Complete'}, {'Link': 'https://brickset.com//sets/71386-12/Character-Pack-Series-2-Sealed-Box'}, {'Link': 'https://brickset.com//sets/71387-1/Adventures-with-Luigi'}, {'Link': 'https://brickset.com//sets/71388-1/Boss-Sumo-Bro-Topple'}, {'Link': 'https://brickset.com//sets/71389-1/Lakitu-Sky-World'}, {'Link': 'https://brickset.com//sets/71390-1/Reznor-Knockdown'}, {'Link': 'https://brickset.com//sets/71391-1/Bowser-s-Airship'}, {'Link': 'https://brickset.com//sets/71392-1/Frog-Mario-Power-Up-Pack'}, {'Link': 'https://brickset.com//sets/71393-1/Bee-Mario-Power-Up-Pack'}, {'Link': 'https://brickset.com//sets/71394-0/Character-Pack-Series-3-{Random-bag}'}, {'Link': 'https://brickset.com//sets/71394-1/1-Up-Mushroom'}, {'Link': 'https://brickset.com//sets/71394-2/Amp'}, {'Link': 'https://brickset.com//sets/71394-3/Scuttlebug'}, {'Link': 'https://brickset.com//sets/71394-4/Parachute-Bob-omb'}, {'Link': 'https://brickset.com//sets/71394-5/Swoop'}, {'Link': 'https://brickset.com//sets/71394-6/Galoomba'}, {'Link': 'https://brickset.com//sets/71394-7/Crowber'}, {'Link': 'https://brickset.com//sets/71394-8/Torpedo-Ted'}, {'Link': 'https://brickset.com//sets/71394-9/Bony-Beetle'}, {'Link': 'https://brickset.com//sets/71394-10/Boo'}, {'Link': 'https://brickset.com//sets/71394-11/Character-Pack-Series-3-Complete'}, {'Link': 'https://brickset.com//sets/71394-12/Character-Pack-Series-3-Sealed-Box'}, {'Link': 'https://brickset.com//sets/71395-1/Super-Mario-64-Question-Mark-Block'}, {'Link': 'https://brickset.com//sets/71730-1/Epic-Battle-Set-Kai-vs-Skulkin'}, {'Link': 'https://brickset.com//sets/71731-1/Epic-Battle-Set-Zane-vs-Nindroid'}, {'Link': 'https://brickset.com//sets/71732-1/Epic-Battle-Set-Jay-vs-Serpentine'}, {'Link': 'https://brickset.com//sets/71733-1/Epic-Battle-Set-Cole-vs-Ghost-Warrior'}, {'Link': 'https://brickset.com//sets/71734-1/Kai-s-Blade-Cycle'}, {'Link': 'https://brickset.com//sets/71735-1/Tournament-of-Elements'}, {'Link': 'https://brickset.com//sets/71736-1/Boulder-Blaster'}, {'Link': 'https://brickset.com//sets/71737-1/X-1-Ninja-Charger'}, {'Link': 'https://brickset.com//sets/71738-1/Zane-s-Titan-Mech-Battle'}, {'Link': 'https://brickset.com//sets/71739-1/Ultra-Sonic-Raider'}, {'Link': 'https://brickset.com//sets/71740-1/Jay-s-Electro-Mech'}, {'Link': 'https://brickset.com//sets/71741-1/NINJAGO-City-Gardens'}, {'Link': 'https://brickset.com//sets/71742-1/Overlord-Dragon'}, {'Link': 'https://brickset.com//sets/71745-1/Lloyd-s-Jungle-Chopper-Bike'}, {'Link': 'https://brickset.com//sets/71746-1/Jungle-Dragon'}, {'Link': 'https://brickset.com//sets/71747-1/The-Keepers-Village'}, {'Link': 'https://brickset.com//sets/71748-1/Catamaran-Sea-Battle'}, {'Link': 'https://brickset.com//sets/71749-1/Final-Flight-of-Destiny-s-Bounty'}, {'Link': 'https://brickset.com//sets/71750-1/Lloyd-s-Hydro-Mech'}, {'Link': 'https://brickset.com//sets/71752-1/Ninja-Sub-Speeder'}, {'Link': 'https://brickset.com//sets/71753-1/Fire-Dragon-Attack'}, {'Link': 'https://brickset.com//sets/71754-1/Water-Dragon'}, {'Link': 'https://brickset.com//sets/71755-1/Temple-of-the-Endless-Sea'}, {'Link': 'https://brickset.com//sets/71756-1/Hydro-Bounty'}, {'Link': 'https://brickset.com//sets/75295-1/Millennium-Falcon-Microfighter'}, {'Link': 'https://brickset.com//sets/75296-1/Darth-Vader-Meditation-Chamber'}, {'Link': 'https://brickset.com//sets/75297-1/Resistance-X-wing-Starfighter'}, {'Link': 'https://brickset.com//sets/75298-1/AT-AT-vs-Tauntaun-Microfighters'}, {'Link': 'https://brickset.com//sets/75299-1/Trouble-on-Tatooine'}, {'Link': 'https://brickset.com//sets/75300-1/Imperial-TIE-Fighter'}, {'Link': 'https://brickset.com//sets/75301-1/Luke-Skywalker-s-X-wing-Fighter'}, {'Link': 'https://brickset.com//sets/75302-1/Imperial-Shuttle'}, {'Link': 'https://brickset.com//sets/75304-1/Darth-Vader-Helmet'}, {'Link': 'https://brickset.com//sets/75305-1/Scout-Trooper-Helmet'}, {'Link': 'https://brickset.com//sets/75306-1/Imperial-Probe-Droid'}, {'Link': 'https://brickset.com//sets/75307-1/Star-Wars-Advent-Calendar'}, {'Link': 'https://brickset.com//sets/75308-1/R2-D2'}, {'Link': 'https://brickset.com//sets/75309-1/Republic-Gunship'}, {'Link': 'https://brickset.com//sets/75310-1/Duel-on-Mandalore'}, {'Link': 'https://brickset.com//sets/75311-1/Imperial-Armoured-Marauder'}]\n"
          ]
        }
      ]
    },
    {
      "cell_type": "code",
      "metadata": {
        "colab": {
          "base_uri": "https://localhost:8080/"
        },
        "id": "O3z4Yfxnf13v",
        "outputId": "48f9b087-39d4-4fff-b810-54beb6a6e406"
      },
      "source": [
        "lst_productdetails = []\n",
        "\n",
        "for oneproduct in lst_productinfos[100:500]:\n",
        "  url = oneproduct[\"Link\"].replace(\"–\", \"-\").replace(\"×\",\"x\")\n",
        "  r = urllib.request.urlopen(url)\n",
        "  raw_html = r.read().decode(\"utf-8\")\n",
        "  soup = BeautifulSoup(raw_html, 'html.parser')\n",
        "\n",
        "  for divbox in soup.find('aside', {'role': 'complementary'}).find_all('section', {'class': 'featurebox'}):\n",
        "    new_product = {}\n",
        "    try:\n",
        "      dl = divbox.find('div', {'class': 'text'}).find('dl')\n",
        "      dt_titles = [x.get_text() for x in dl.find_all('dt')]\n",
        "      dd_values = [x.get_text() for x in dl.find_all('dd')]\n",
        "      d_values = {dt_titles[i]:dd_values[i] for i in range(min(len(dt_titles), len(dd_values)))}\n",
        "      new_product['Set Number'] = d_values[\"Set number\"] \n",
        "\n",
        "      #pprint.pprint(d_values)\n",
        "      break\n",
        "    except:\n",
        "      new_product['Set Number'] = ''\n",
        "    break\n",
        "  lst_productdetails.append(d_values)\n",
        "print(len(lst_productdetails))"
      ],
      "id": "O3z4Yfxnf13v",
      "execution_count": null,
      "outputs": [
        {
          "output_type": "stream",
          "name": "stdout",
          "text": [
            "400\n"
          ]
        }
      ]
    },
    {
      "cell_type": "markdown",
      "metadata": {
        "id": "51e8c41f-0c34-4f6e-b1ac-34ae929ecf2d"
      },
      "source": [
        "## Question 4.\n",
        "Save results to Excel file with header:<br>\n",
        "Set number, Title, Theme, Subtheme, Tags, Price, Pieces, Packaging,Dimensions, Set type, Age ranger, Rating, NumberOfRating, Url\n"
      ],
      "id": "51e8c41f-0c34-4f6e-b1ac-34ae929ecf2d"
    },
    {
      "cell_type": "code",
      "metadata": {
        "colab": {
          "base_uri": "https://localhost:8080/"
        },
        "id": "8f41299b-b63e-4acf-ada8-7f806cc062a3",
        "outputId": "f2ff4997-2622-4eb1-bf72-63dd65256b83"
      },
      "source": [
        "# Write you code here\n",
        "import pandas as pd \n",
        "df = pd.DataFrame(lst_productdetails)\n",
        "df.to_excel('productinfos.xlsx', index=False)\n",
        "print('Finished.')\n",
        "\n",
        "\n"
      ],
      "id": "8f41299b-b63e-4acf-ada8-7f806cc062a3",
      "execution_count": null,
      "outputs": [
        {
          "output_type": "stream",
          "name": "stdout",
          "text": [
            "Finished.\n"
          ]
        }
      ]
    },
    {
      "cell_type": "code",
      "metadata": {
        "colab": {
          "base_uri": "https://localhost:8080/",
          "height": 487
        },
        "id": "6huYr6QMqgrh",
        "outputId": "f2afae2f-642d-4233-bda2-9fedb57b8ddb"
      },
      "source": [
        "df.head()"
      ],
      "id": "6huYr6QMqgrh",
      "execution_count": null,
      "outputs": [
        {
          "output_type": "execute_result",
          "data": {
            "text/html": [
              "<div>\n",
              "<style scoped>\n",
              "    .dataframe tbody tr th:only-of-type {\n",
              "        vertical-align: middle;\n",
              "    }\n",
              "\n",
              "    .dataframe tbody tr th {\n",
              "        vertical-align: top;\n",
              "    }\n",
              "\n",
              "    .dataframe thead th {\n",
              "        text-align: right;\n",
              "    }\n",
              "</style>\n",
              "<table border=\"1\" class=\"dataframe\">\n",
              "  <thead>\n",
              "    <tr style=\"text-align: right;\">\n",
              "      <th></th>\n",
              "      <th>Set number</th>\n",
              "      <th>Name</th>\n",
              "      <th>Set type</th>\n",
              "      <th>Theme group</th>\n",
              "      <th>Theme</th>\n",
              "      <th>Subtheme</th>\n",
              "      <th>Year released</th>\n",
              "      <th>Launch/exit</th>\n",
              "      <th>Tags</th>\n",
              "      <th>Pieces</th>\n",
              "      <th>Minifigs</th>\n",
              "      <th>RRP</th>\n",
              "      <th>Current value</th>\n",
              "      <th>Price per piece</th>\n",
              "      <th>Age range</th>\n",
              "      <th>Packaging</th>\n",
              "      <th>Dimensions</th>\n",
              "      <th>Weight</th>\n",
              "      <th>Barcodes</th>\n",
              "      <th>LEGO item numbers</th>\n",
              "      <th>Availability</th>\n",
              "      <th>Notes</th>\n",
              "      <th>Rating</th>\n",
              "      <th>Designer</th>\n",
              "      <th>Designers</th>\n",
              "    </tr>\n",
              "  </thead>\n",
              "  <tbody>\n",
              "    <tr>\n",
              "      <th>0</th>\n",
              "      <td>30566-1</td>\n",
              "      <td>Fire Helicopter</td>\n",
              "      <td>Normal</td>\n",
              "      <td>Modern day</td>\n",
              "      <td>City</td>\n",
              "      <td>Fire</td>\n",
              "      <td>2021</td>\n",
              "      <td>01 Jan 2021 - 31 Dec 2021</td>\n",
              "      <td>View tags »AircraftFire HelicopterGift with Pu...</td>\n",
              "      <td>35</td>\n",
              "      <td>1 (1 Unique to this set)</td>\n",
              "      <td>£3.49 / 3.99€</td>\n",
              "      <td>\\nNew: ~$4\\nUsed:\\n</td>\n",
              "      <td>10.0p / 11.4c</td>\n",
              "      <td>5+</td>\n",
              "      <td>Polybag</td>\n",
              "      <td>17 x 17 x 1.1 cm (6.7 x 6.7 x 0.4 in)</td>\n",
              "      <td>0.04Kg (0.09 lb)</td>\n",
              "      <td>EAN: 5702016912524</td>\n",
              "      <td>NA: 6332478EU: 6332477</td>\n",
              "      <td>LEGO exclusive</td>\n",
              "      <td>Free with qualifying purchases at shop.LEGO.co...</td>\n",
              "      <td>✭✭✭✭✩ 3.3 36 ratings</td>\n",
              "      <td>NaN</td>\n",
              "      <td>NaN</td>\n",
              "    </tr>\n",
              "    <tr>\n",
              "      <th>1</th>\n",
              "      <td>30567-1</td>\n",
              "      <td>Police Water Scooter</td>\n",
              "      <td>Normal</td>\n",
              "      <td>Modern day</td>\n",
              "      <td>City</td>\n",
              "      <td>Police</td>\n",
              "      <td>2021</td>\n",
              "      <td>01 Jan 2021 - 31 Dec 2021</td>\n",
              "      <td>View tags »Gift with PurchaseJetskiPolicePolybag</td>\n",
              "      <td>33</td>\n",
              "      <td>1 (1 Unique to this set)</td>\n",
              "      <td>NaN</td>\n",
              "      <td>\\nNew: ~$3\\nUsed: ~$2\\n</td>\n",
              "      <td>NaN</td>\n",
              "      <td>5+</td>\n",
              "      <td>Polybag</td>\n",
              "      <td>17 x 17 x 0.9 cm (6.7 x 6.7 x 0.4 in)</td>\n",
              "      <td>0.03Kg (0.07 lb)</td>\n",
              "      <td>EAN: 5702016912531</td>\n",
              "      <td>NA: 6332481EU: 6332480</td>\n",
              "      <td>LEGO exclusive</td>\n",
              "      <td>Free with qualifying purchases at shop.LEGO.co...</td>\n",
              "      <td>✭✭✭✭✩ 3.7 33 ratings</td>\n",
              "      <td>NaN</td>\n",
              "      <td>NaN</td>\n",
              "    </tr>\n",
              "    <tr>\n",
              "      <th>2</th>\n",
              "      <td>30568-1</td>\n",
              "      <td>Skater</td>\n",
              "      <td>Normal</td>\n",
              "      <td>Modern day</td>\n",
              "      <td>City</td>\n",
              "      <td>Traffic</td>\n",
              "      <td>2021</td>\n",
              "      <td>01 Jan 2021 - 31 Dec 2021</td>\n",
              "      <td>View tags »CarConvertiblePolybagSkateboard</td>\n",
              "      <td>40</td>\n",
              "      <td>1 (1 Unique to this set)</td>\n",
              "      <td>NaN</td>\n",
              "      <td>\\nNew: ~$5\\nUsed:\\n</td>\n",
              "      <td>NaN</td>\n",
              "      <td>5+</td>\n",
              "      <td>Polybag</td>\n",
              "      <td>17 x 17 x 0.9 cm (6.7 x 6.7 x 0.4 in)</td>\n",
              "      <td>0.03Kg (0.07 lb)</td>\n",
              "      <td>EAN: 5702016911893</td>\n",
              "      <td>NA: 6332484EU: 6332483</td>\n",
              "      <td>NaN</td>\n",
              "      <td>Free with qualifying purchases at shop.LEGO.co...</td>\n",
              "      <td>✭✭✭✭✩ 3.7 34 ratings</td>\n",
              "      <td>NaN</td>\n",
              "      <td>NaN</td>\n",
              "    </tr>\n",
              "    <tr>\n",
              "      <th>3</th>\n",
              "      <td>30569-1</td>\n",
              "      <td>LEGO Stand</td>\n",
              "      <td>Normal</td>\n",
              "      <td>Modern day</td>\n",
              "      <td>City</td>\n",
              "      <td>General</td>\n",
              "      <td>2021</td>\n",
              "      <td>01 Jan 2021 - 31 Dec 2021</td>\n",
              "      <td>View tags »CartLego StorePolybagStreet Vendor</td>\n",
              "      <td>47</td>\n",
              "      <td>1 (1 Unique to this set)</td>\n",
              "      <td>NaN</td>\n",
              "      <td>\\nNew: ~$7\\nUsed:\\n</td>\n",
              "      <td>NaN</td>\n",
              "      <td>5+</td>\n",
              "      <td>Polybag</td>\n",
              "      <td>20 x 19.5 x 0.8 cm (7.9 x 7.7 x 0.3 in)</td>\n",
              "      <td>0.04Kg (0.09 lb)</td>\n",
              "      <td>EAN: 5702016911909</td>\n",
              "      <td>NA: 6332486EU: 6332485</td>\n",
              "      <td>NaN</td>\n",
              "      <td>NaN</td>\n",
              "      <td>✭✭✭✭✩ 4.2 22 ratings</td>\n",
              "      <td>NaN</td>\n",
              "      <td>NaN</td>\n",
              "    </tr>\n",
              "    <tr>\n",
              "      <th>4</th>\n",
              "      <td>30570-1</td>\n",
              "      <td>Wildlife Rescue Hovercraft</td>\n",
              "      <td>Normal</td>\n",
              "      <td>Modern day</td>\n",
              "      <td>City</td>\n",
              "      <td>Wildlife Rescue</td>\n",
              "      <td>2021</td>\n",
              "      <td>01 Jun 2021 - {t.b.a}</td>\n",
              "      <td>View tags »Fresh ProduceHovercraftMonkeyPolybag</td>\n",
              "      <td>35</td>\n",
              "      <td>1 (1 Unique to this set)</td>\n",
              "      <td>NaN</td>\n",
              "      <td>\\nNew: ~$6\\nUsed:\\n</td>\n",
              "      <td>NaN</td>\n",
              "      <td>5+</td>\n",
              "      <td>Polybag</td>\n",
              "      <td>17 x 17 x 2.2 cm (6.7 x 6.7 x 0.9 in)</td>\n",
              "      <td>NaN</td>\n",
              "      <td>UPC: 673419339261EAN: 5702016911954</td>\n",
              "      <td>NA: 6332500EU: 6332499</td>\n",
              "      <td>NaN</td>\n",
              "      <td>NaN</td>\n",
              "      <td>Not yet rated</td>\n",
              "      <td>Corvin Stichert</td>\n",
              "      <td>NaN</td>\n",
              "    </tr>\n",
              "  </tbody>\n",
              "</table>\n",
              "</div>"
            ],
            "text/plain": [
              "  Set number                        Name  ...          Designer Designers\n",
              "0    30566-1             Fire Helicopter  ...               NaN       NaN\n",
              "1    30567-1        Police Water Scooter  ...               NaN       NaN\n",
              "2    30568-1                      Skater  ...               NaN       NaN\n",
              "3    30569-1                  LEGO Stand  ...               NaN       NaN\n",
              "4    30570-1  Wildlife Rescue Hovercraft  ...  Corvin Stichert        NaN\n",
              "\n",
              "[5 rows x 25 columns]"
            ]
          },
          "metadata": {},
          "execution_count": 20
        }
      ]
    },
    {
      "cell_type": "markdown",
      "metadata": {
        "id": "f8fbf715-999e-48c3-a4b7-b663bd2b4121"
      },
      "source": [
        "## Question 5.\n",
        "Display the list of theme and subthem from the list of product.<br>\n",
        "Display the product, which has a highest price.<br>\n",
        "Display the list of products, which have Rating >= 4.0 from at least 10 rating.<br>"
      ],
      "id": "f8fbf715-999e-48c3-a4b7-b663bd2b4121"
    },
    {
      "cell_type": "code",
      "metadata": {
        "colab": {
          "base_uri": "https://localhost:8080/"
        },
        "id": "aIz0gldA65nt",
        "outputId": "5928d0a3-033c-4dbb-e988-c257112c3c30"
      },
      "source": [
        "#Display the list of theme and subtheme\n",
        "Theme = df['Theme'].unique()\n",
        "Subtheme = df['Subtheme'].unique()\n",
        "print('Theme: ' + str(Theme))\n",
        "print('Subtheme: ' + str(Subtheme))\n"
      ],
      "id": "aIz0gldA65nt",
      "execution_count": null,
      "outputs": [
        {
          "output_type": "stream",
          "name": "stdout",
          "text": [
            "Theme: ['City' 'Creator' 'Ninjago' 'Art' 'Seasonal' 'BrickHeadz' 'Ideas'\n",
            " 'Promotional' 'Star Wars' 'Harry Potter' 'DC Comics Super Heroes'\n",
            " 'Marvel Super Heroes' 'Brick Sketches' 'Xtra' 'Monkie Kid' 'Disney'\n",
            " 'Creator Expert' 'Minions: The Rise of Gru' 'Miscellaneous' 'Friends'\n",
            " 'Dots' 'Technic' 'Vidiyo' 'Education' 'Classic' 'Super Mario'\n",
            " 'Collectable Minifigures']\n",
            "Subtheme: ['Fire' 'Police' 'Traffic' 'General' 'Wildlife Rescue' 'Miscellaneous'\n",
            " '3 in 1' 'Seasonal' 'Legacy' 'Licensed' 'Chinese Traditional Festivals'\n",
            " 'Minions: The Rise of Gru' 'Pets' 'Promotional' 'Easter'\n",
            " 'Gift with Purchase' 'Batman' 'Spider-Man' 'Disney' 'LEGO House'\n",
            " \"Valentine's Day\" nan 'LEGOLAND' 'Disney Parks' 'Christmas' 'Adidas'\n",
            " 'Ninjago' 'Halloween' 'Wizarding World' 'Vet' 'Play Cube' 'play Cube'\n",
            " 'Forest' 'Amusement Park' 'Bracelets' 'Extra Dots' 'Accessories'\n",
            " 'Bag Tag' 'Bandmates Series 1' 'BeatBox' 'Bandmates Series 2' 'Stages'\n",
            " 'Raya and the Last Dragon' 'Frozen II' 'Storybook Adventures'\n",
            " 'The Little Mermaid' 'Cinderella' 'Frozen' 'Disney Princess'\n",
            " 'Beauty and the Beast' 'Encanto' 'SPIKE Essential' 'BricQ' 'SPIKE Prime'\n",
            " 'FIRST LEGO League' 'FIRST LEGO League Jr.' 'Construction' 'Farm'\n",
            " 'Stuntz' 'Product Collection' 'Marvel Studios' 'Series 21' 'Looney Tunes'\n",
            " 'Maker Set' 'Expansion Set' 'Power-Up Pack' 'Character Pack - Series 2'\n",
            " 'Starter Course' 'Character Pack - Series 3' 'The Island' 'Seabound'\n",
            " 'MicroFighters' 'Episode V' 'The Force Awakens' 'The Mandalorian'\n",
            " 'Episode IV' 'Episode VI' 'Helmet Collection' 'Ultimate Collector Series'\n",
            " 'The Clone Wars']\n"
          ]
        }
      ]
    },
    {
      "cell_type": "code",
      "metadata": {
        "colab": {
          "base_uri": "https://localhost:8080/"
        },
        "id": "g_AGj0q78ui9",
        "outputId": "b44b37d9-179b-491a-8782-ba1f988d094c"
      },
      "source": [
        "#Display Product with highest price\n",
        "# new data frame with split value columns\n",
        "new = df[\"RRP\"].str.split(\" / \", n = 2, expand = True)\n",
        "  \n",
        "# making separate Pound column from new data frame\n",
        "df[\"Pounds\"]= new[0]\n",
        "  \n",
        "# making separate Dollar column from new data frame\n",
        "df[\"Dollar\"]= new[1]\n",
        "\n",
        "# making separate Euro column from new data frame\n",
        "df[\"Euro\"]= new[2]\n",
        "\n",
        "#Stripping the € sign from the figure\n",
        "df[\"Euro\"] = df[\"Euro\"].str.strip('€')\n",
        "#Changing data type to float to perform max() function\n",
        "df[\"Euro\"] = df[\"Euro\"].astype(float)\n",
        "#Finding the max\n",
        "max_price = df[df['Euro'] == df['Euro'].max()]\n",
        "#Printing the name and price of most expensive product\n",
        "print(max_price[['Name','Euro']])\n"
      ],
      "id": "g_AGj0q78ui9",
      "execution_count": null,
      "outputs": [
        {
          "output_type": "stream",
          "name": "stdout",
          "text": [
            "                  Name    Euro\n",
            "156  Cat D11 Bulldozer  449.99\n"
          ]
        }
      ]
    },
    {
      "cell_type": "code",
      "metadata": {
        "id": "4i04_l4wt3qr",
        "colab": {
          "base_uri": "https://localhost:8080/"
        },
        "outputId": "c33a11cb-17f8-4aba-c9d2-5c2e91f3512a"
      },
      "source": [
        "#Display the list of products, which have Rating >= 4.0 from at least 10 rating\n",
        "new = df[\"Rating\"].str.split(\" \", n = 4, expand = True)\n",
        "\n",
        "df['Rating_'] = new[1]\n",
        "df['No_Of_Ratings'] = new[2]\n",
        "df[\"Rating_\"] = pd.to_numeric(df['Rating_'], errors='coerce')\n",
        "df[\"No_Of_Ratings\"] = pd.to_numeric(df['No_Of_Ratings'], errors='coerce')\n",
        "\n",
        "df_Ratings = df.dropna(subset = ['Rating_'])\n",
        "df_No_Of_Ratings = df.dropna(subset = ['No_Of_Ratings'])\n",
        "\n",
        "ratings = df_Ratings[df_Ratings['Rating_'] > 4.0]\n",
        "No_Of_Ratings = df_No_Of_Ratings[df_No_Of_Ratings['No_Of_Ratings'] > 10]\n",
        "print(ratings[['Name', 'No_Of_Ratings','Rating_']])"
      ],
      "id": "4i04_l4wt3qr",
      "execution_count": null,
      "outputs": [
        {
          "output_type": "stream",
          "name": "stdout",
          "text": [
            "                           Name  No_Of_Ratings  Rating_\n",
            "3                    LEGO Stand           22.0      4.2\n",
            "10                  Cyber Drone           60.0      4.3\n",
            "14            Space Mining Mech           21.0      4.3\n",
            "17           Surfer Beach House           39.0      4.2\n",
            "19              Medieval Castle           41.0      4.3\n",
            "..                          ...            ...      ...\n",
            "393        Scout Trooper Helmet           62.0      4.5\n",
            "394        Imperial Probe Droid           85.0      4.1\n",
            "396                       R2-D2           52.0      4.2\n",
            "397            Republic Gunship           41.0      4.4\n",
            "399  Imperial Armoured Marauder           86.0      4.4\n",
            "\n",
            "[69 rows x 3 columns]\n"
          ]
        }
      ]
    },
    {
      "cell_type": "code",
      "metadata": {
        "id": "wBVs7u4SmkQB"
      },
      "source": [
        ""
      ],
      "id": "wBVs7u4SmkQB",
      "execution_count": null,
      "outputs": []
    }
  ]
}